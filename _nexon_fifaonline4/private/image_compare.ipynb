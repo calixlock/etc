{
 "cells": [
  {
   "cell_type": "code",
   "execution_count": null,
   "metadata": {},
   "outputs": [
    {
     "name": "stdout",
     "output_type": "stream",
     "text": [
      "Collecting pydirectinput-rgx\n",
      "  Downloading pydirectinput_rgx-2.1.2-py3-none-any.whl.metadata (10 kB)\n",
      "Downloading pydirectinput_rgx-2.1.2-py3-none-any.whl (36 kB)\n",
      "Installing collected packages: pydirectinput-rgx\n",
      "Successfully installed pydirectinput-rgx-2.1.2\n"
     ]
    },
    {
     "name": "stderr",
     "output_type": "stream",
     "text": [
      "WARNING: Ignoring invalid distribution ~ip (C:\\Python311\\Lib\\site-packages)\n",
      "WARNING: Ignoring invalid distribution ~ip (C:\\Python311\\Lib\\site-packages)\n",
      "WARNING: Ignoring invalid distribution ~ip (C:\\Python311\\Lib\\site-packages)\n"
     ]
    }
   ],
   "source": [
    "# !pip install pyautogui opencv-python numpy scikit-image pydirectinput-rgx pygetwindow pywinauto\n",
    "!pip install "
   ]
  },
  {
   "cell_type": "code",
   "execution_count": null,
   "metadata": {},
   "outputs": [
    {
     "name": "stdout",
     "output_type": "stream",
     "text": [
      "유사한 이미지를 찾았습니다! 유사도: 0.08\n"
     ]
    },
    {
     "data": {
      "text/plain": [
       "True"
      ]
     },
     "execution_count": 14,
     "metadata": {},
     "output_type": "execute_result"
    }
   ],
   "source": [
    "pip install pyautogui opencv-python numpy scikit-image pydirectinput-rgx pygetwindow pywinauto\n",
    "\n",
    "# 이미지 유/무 판단후 저장\n",
    "import pyautogui\n",
    "import cv2\n",
    "import numpy as np\n",
    "from skimage.metrics import structural_similarity as ssim\n",
    "\n",
    "def compare_images(image1, image2):\n",
    "    image2 = cv2.resize(image2, (image1.shape[1], image1.shape[0]))\n",
    "    gray1 = cv2.cvtColor(image1, cv2.COLOR_BGR2GRAY)\n",
    "    gray2 = cv2.cvtColor(image2, cv2.COLOR_BGR2GRAY)\n",
    "    score, _ = ssim(gray1, gray2, full=True)\n",
    "    return score\n",
    "\n",
    "def find_similar_image(template_path, threshold=0.05):\n",
    "    template = cv2.imread(template_path)\n",
    "    screenshot = pyautogui.screenshot()\n",
    "    screenshot = cv2.cvtColor(np.array(screenshot), cv2.COLOR_RGB2BGR)\n",
    "    \n",
    "    similarity = compare_images(template, screenshot)\n",
    "    \n",
    "    if similarity > threshold:\n",
    "        print(f\"유사한 이미지를 찾았습니다! 유사도: {similarity:.2f}\")\n",
    "        \n",
    "        # 템플릿 매칭을 사용하여 이미지 위치 찾기\n",
    "        result = cv2.matchTemplate(screenshot, template, cv2.TM_CCOEFF_NORMED)\n",
    "        min_val, max_val, min_loc, max_loc = cv2.minMaxLoc(result)\n",
    "        \n",
    "        # 찾은 이미지 주변에 빨간 사각형 그리기\n",
    "        top_left = max_loc\n",
    "        bottom_right = (top_left[0] + template.shape[1], top_left[1] + template.shape[0])\n",
    "        cv2.rectangle(screenshot, top_left, bottom_right, (0, 0, 255), 2)\n",
    "        \n",
    "        # 수정된 스크린샷 저장\n",
    "        cv2.imwrite(\"./smilar_images/similar_image_with_rectangle.png\", screenshot)\n",
    "        return True\n",
    "    else:\n",
    "        print(f\"유사한 이미지를 찾지 못했습니다. 유사도: {similarity:.2f}\")\n",
    "        return False\n",
    "\n",
    "# 사용 예시\n",
    "# template_path = \"./images/bruyne.jpg\"  # 비교할 이미지 경로\n",
    "template_path = \"./images/next.png\"  # 비교할 이미지 경로\n",
    "find_similar_image(template_path)\n"
   ]
  },
  {
   "cell_type": "code",
   "execution_count": null,
   "metadata": {},
   "outputs": [
    {
     "name": "stdout",
     "output_type": "stream",
     "text": [
      "유사한 이미지를 찾았습니다! 유사도: 0.07\n"
     ]
    },
    {
     "name": "stderr",
     "output_type": "stream",
     "text": [
      "c:\\Python311\\Lib\\site-packages\\pywinauto\\application.py:1010: UserWarning: Python process has no rights to make changes in the target GUI (run the script as Administrator)\n",
      "  warnings.warn(warning_text, UserWarning)\n"
     ]
    },
    {
     "name": "stdout",
     "output_type": "stream",
     "text": [
      "이미지의 중심점 (2627, 792)을 클릭했습니다.\n"
     ]
    },
    {
     "data": {
      "text/plain": [
       "True"
      ]
     },
     "execution_count": 70,
     "metadata": {},
     "output_type": "execute_result"
    }
   ],
   "source": [
    "# 이미지 있으면 클릭\n",
    "import time\n",
    "import pyautogui\n",
    "import pydirectinput\n",
    "import cv2\n",
    "import numpy as np\n",
    "from skimage.metrics import structural_similarity as ssim\n",
    "\n",
    "import pygetwindow as gw\n",
    "import pywinauto\n",
    "\n",
    "def focus_window_partial(partial_title):\n",
    "    windows = gw.getWindowsWithTitle(partial_title)\n",
    "    if windows:\n",
    "        win = windows[0]\n",
    "        pywinauto.application.Application().connect(handle=win._hWnd).top_window().set_focus()\n",
    "        win.activate()\n",
    "\n",
    "def compare_images(image1, image2):\n",
    "    image2 = cv2.resize(image2, (image1.shape[1], image1.shape[0]))\n",
    "    gray1 = cv2.cvtColor(image1, cv2.COLOR_BGR2GRAY)\n",
    "    gray2 = cv2.cvtColor(image2, cv2.COLOR_BGR2GRAY)\n",
    "    score, _ = ssim(gray1, gray2, full=True)\n",
    "    return score\n",
    "\n",
    "def find_and_click_similar_image(template_path, threshold=0.05):\n",
    "    template = cv2.imread(template_path)\n",
    "    screenshot = pyautogui.screenshot()\n",
    "    screenshot = cv2.cvtColor(np.array(screenshot), cv2.COLOR_RGB2BGR)\n",
    "    \n",
    "    similarity = compare_images(template, screenshot)\n",
    "    \n",
    "    if similarity > threshold:\n",
    "        print(f\"유사한 이미지를 찾았습니다! 유사도: {similarity:.2f}\")\n",
    "        \n",
    "        # 템플릿 매칭을 사용하여 이미지 위치 찾기\n",
    "        result = cv2.matchTemplate(screenshot, template, cv2.TM_CCOEFF_NORMED)\n",
    "        min_val, max_val, min_loc, max_loc = cv2.minMaxLoc(result)\n",
    "        \n",
    "        # 찾은 이미지의 중심점 계산\n",
    "        top_left = max_loc\n",
    "        bottom_right = (top_left[0] + template.shape[1], top_left[1] + template.shape[0])\n",
    "        center_x = (top_left[0] + bottom_right[0]) // 2\n",
    "        center_y = (top_left[1] + bottom_right[1]) // 2\n",
    "        \n",
    "        # 찾은 이미지 주변에 빨간 사각형 그리기\n",
    "        top_left = max_loc\n",
    "        bottom_right = (top_left[0] + template.shape[1], top_left[1] + template.shape[0])\n",
    "        cv2.rectangle(screenshot, top_left, bottom_right, (0, 0, 255), 2)\n",
    "        \n",
    "        # 중심점에 파란색 점 그리기\n",
    "        cv2.circle(screenshot, (center_x, center_y), 5, (255, 0, 0), -1)\n",
    "        \n",
    "        # 수정된 스크린샷 저장\n",
    "        cv2.imwrite(\"./similar_images/similar_image_with_rectangle.png\", screenshot)\n",
    "        \n",
    "        # 창 포커스 셋팅\n",
    "        focus_window_partial('FC ONLINE')\n",
    "        time.sleep(0.5)\n",
    "        pyautogui.click(center_x, center_y)\n",
    "        # pydirectinput.click(center_x, center_y)\n",
    "        print(f\"이미지의 중심점 ({center_x}, {center_y})을 클릭했습니다.\")\n",
    "        \n",
    "        return True\n",
    "    else:\n",
    "        print(f\"유사한 이미지를 찾지 못했습니다. 유사도: {similarity:.2f}\")\n",
    "        return False\n",
    "\n",
    "# 사용 예시\n",
    "# template_path = \"path/to/your/template/image.png\"\n",
    "template_path = \"./images/next.png\"  # 비교할 이미지 경로\n",
    "find_and_click_similar_image(template_path)\n"
   ]
  },
  {
   "cell_type": "code",
   "execution_count": null,
   "metadata": {},
   "outputs": [],
   "source": []
  },
  {
   "cell_type": "code",
   "execution_count": null,
   "metadata": {},
   "outputs": [
    {
     "name": "stdout",
     "output_type": "stream",
     "text": [
      "창 제목: ToolBarHiddenWindow, 프로세스: MSPCManager.exe\n",
      "창 제목: ● image_compare.ipynb - _nexon_fifaonline4 - Visual Studio Code, 프로세스: Code.exe\n",
      "창 제목: 파이썬으로 윈도우의 특정 창 포커스 하는 코드 알려줘 - Chrome, 프로세스: chrome.exe\n",
      "창 제목: FC ONLINE, 프로세스: fczf.exe\n",
      "창 제목: *OFFICE_ACTIVE.txt - 메모장, 프로세스: Notepad.exe\n",
      "창 제목: 작업 관리자, 프로세스: Taskmgr.exe\n",
      "창 제목: NVIDIA GeForce Overlay, 프로세스: NVIDIA Overlay.exe\n",
      "창 제목: 설정, 프로세스: SystemSettings.exe\n",
      "창 제목: 설정, 프로세스: ApplicationFrameHost.exe\n",
      "창 제목: Windows 입력 환경, 프로세스: TextInputHost.exe\n",
      "창 제목: 프레젠테이션1 - PowerPoint, 프로세스: POWERPNT.EXE\n",
      "창 제목: EA SPORTS FC ONLINE 외 페이지 4개 - 프로필 1 - Microsoft​ Edge, 프로세스: msedge.exe\n",
      "창 제목: 캡처 도구, 프로세스: SnippingTool.exe\n",
      "창 제목: Program Manager, 프로세스: explorer.exe\n"
     ]
    }
   ],
   "source": [
    "# 현재 윈도우에 활성화 되어 있는 활성창들 목록록\n",
    "import win32gui\n",
    "import win32process\n",
    "import psutil\n",
    "\n",
    "def get_active_windows():\n",
    "    active_windows = []\n",
    "    def enum_windows_callback(hwnd, results):\n",
    "        if win32gui.IsWindowVisible(hwnd) and win32gui.GetWindowText(hwnd):\n",
    "            window_title = win32gui.GetWindowText(hwnd)\n",
    "            _, pid = win32process.GetWindowThreadProcessId(hwnd)\n",
    "            try:\n",
    "                process = psutil.Process(pid)\n",
    "                process_name = process.name()\n",
    "                active_windows.append((window_title, process_name))\n",
    "            except psutil.NoSuchProcess:\n",
    "                pass\n",
    "        return True\n",
    "\n",
    "    win32gui.EnumWindows(enum_windows_callback, [])\n",
    "    return active_windows\n",
    "\n",
    "# 활성화된 창들의 목록 가져오기\n",
    "active_windows = get_active_windows()\n",
    "\n",
    "# 결과 출력\n",
    "for window in active_windows:\n",
    "    print(f\"창 제목: {window[0]}, 프로세스: {window[1]}\")\n"
   ]
  },
  {
   "cell_type": "code",
   "execution_count": null,
   "metadata": {},
   "outputs": [
    {
     "name": "stderr",
     "output_type": "stream",
     "text": [
      "c:\\Python311\\Lib\\site-packages\\pywinauto\\application.py:1010: UserWarning: Python process has no rights to make changes in the target GUI (run the script as Administrator)\n",
      "  warnings.warn(warning_text, UserWarning)\n"
     ]
    }
   ],
   "source": []
  },
  {
   "cell_type": "code",
   "execution_count": 42,
   "metadata": {},
   "outputs": [
    {
     "name": "stdout",
     "output_type": "stream",
     "text": [
      "현재 활성화된 프로그램 목록:\n",
      "1. ● image_compare.ipynb - _nexon_fifaonline4 - Visual Studio Code\n",
      "'● image_compare.ipynb - _nexon_fifaonline4 - Visual Studio Code' 창이 활성화되었습니다.\n",
      "프로그램을 종료합니다.\n"
     ]
    }
   ],
   "source": [
    "import pygetwindow as gw\n",
    "from pywinauto import Application\n",
    "\n",
    "def get_active_windows():\n",
    "    active_windows = []\n",
    "    for window in gw.getAllWindows():\n",
    "        if window.isActive and window.title.strip():\n",
    "            active_windows.append(window)\n",
    "    return active_windows\n",
    "\n",
    "def activate_selected_window(window):\n",
    "    try:\n",
    "        # 창이 최소화되어 있으면 복원합니다\n",
    "        if window.isMinimized:\n",
    "            window.restore()\n",
    "        \n",
    "        # 창을 활성화합니다\n",
    "        window.activate()\n",
    "        print(f\"'{window.title}' 창이 활성화되었습니다.\")\n",
    "    except Exception as e:\n",
    "        print(f\"창 활성화 중 오류 발생: {e}\")\n",
    "        print(\"pywinauto를 사용하여 활성화를 시도합니다.\")\n",
    "        try:\n",
    "            app = Application().connect(handle=window._hWnd)\n",
    "            app.window(handle=window._hWnd).set_focus()\n",
    "            print(f\"'{window.title}' 창이 활성화되었습니다.\")\n",
    "        except Exception as e:\n",
    "            print(f\"pywinauto를 사용한 활성화 중 오류 발생: {e}\")\n",
    "\n",
    "active_windows = get_active_windows()\n",
    "\n",
    "print(\"현재 활성화된 프로그램 목록:\")\n",
    "for i, window in enumerate(active_windows, 1):\n",
    "    print(f\"{i}. {window.title}\")\n",
    "\n",
    "while True:\n",
    "    try:\n",
    "        choice = int(input(\"\\n활성화할 프로그램의 번호를 입력하세요 (0 입력시 종료): \"))\n",
    "        if choice == 0:\n",
    "            print(\"프로그램을 종료합니다.\")\n",
    "            break\n",
    "        elif 1 <= choice <= len(active_windows):\n",
    "            selected_window = active_windows[choice - 1]\n",
    "            activate_selected_window(selected_window)\n",
    "        else:\n",
    "            print(\"올바른 번호를 입력해주세요.\")\n",
    "    except ValueError:\n",
    "        print(\"숫자를 입력해주세요.\")"
   ]
  },
  {
   "cell_type": "code",
   "execution_count": null,
   "metadata": {},
   "outputs": [
    {
     "ename": "PyGetWindowException",
     "evalue": "Error code from Windows: 0 - 작업을 완료했습니다.",
     "output_type": "error",
     "traceback": [
      "\u001b[1;31m---------------------------------------------------------------------------\u001b[0m",
      "\u001b[1;31mPyGetWindowException\u001b[0m                      Traceback (most recent call last)",
      "Cell \u001b[1;32mIn[33], line 26\u001b[0m\n\u001b[0;32m     24\u001b[0m \u001b[38;5;66;03m# 사용 예시\u001b[39;00m\n\u001b[0;32m     25\u001b[0m window_title \u001b[38;5;241m=\u001b[39m \u001b[38;5;124m\"\u001b[39m\u001b[38;5;124mFC ONLINE\u001b[39m\u001b[38;5;124m\"\u001b[39m  \u001b[38;5;66;03m# 활성화하려는 창의 제목\u001b[39;00m\n\u001b[1;32m---> 26\u001b[0m \u001b[43mactivate_window\u001b[49m\u001b[43m(\u001b[49m\u001b[43mwindow_title\u001b[49m\u001b[43m)\u001b[49m\n",
      "Cell \u001b[1;32mIn[33], line 15\u001b[0m, in \u001b[0;36mactivate_window\u001b[1;34m(window_title)\u001b[0m\n\u001b[0;32m     12\u001b[0m         window\u001b[38;5;241m.\u001b[39mrestore()\n\u001b[0;32m     14\u001b[0m     \u001b[38;5;66;03m# 창을 활성화합니다\u001b[39;00m\n\u001b[1;32m---> 15\u001b[0m     \u001b[43mwindow\u001b[49m\u001b[38;5;241;43m.\u001b[39;49m\u001b[43mactivate\u001b[49m\u001b[43m(\u001b[49m\u001b[43m)\u001b[49m\n\u001b[0;32m     16\u001b[0m     \u001b[38;5;28mprint\u001b[39m(\u001b[38;5;124mf\u001b[39m\u001b[38;5;124m\"\u001b[39m\u001b[38;5;124m'\u001b[39m\u001b[38;5;132;01m{\u001b[39;00mwindow_title\u001b[38;5;132;01m}\u001b[39;00m\u001b[38;5;124m'\u001b[39m\u001b[38;5;124m 창이 활성화되었습니다.\u001b[39m\u001b[38;5;124m\"\u001b[39m)\n\u001b[0;32m     17\u001b[0m \u001b[38;5;28;01mexcept\u001b[39;00m \u001b[38;5;167;01mIndexError\u001b[39;00m:\n",
      "File \u001b[1;32mc:\\Python311\\Lib\\site-packages\\pygetwindow\\_pygetwindow_win.py:246\u001b[0m, in \u001b[0;36mWin32Window.activate\u001b[1;34m(self)\u001b[0m\n\u001b[0;32m    244\u001b[0m result \u001b[38;5;241m=\u001b[39m ctypes\u001b[38;5;241m.\u001b[39mwindll\u001b[38;5;241m.\u001b[39muser32\u001b[38;5;241m.\u001b[39mSetForegroundWindow(\u001b[38;5;28mself\u001b[39m\u001b[38;5;241m.\u001b[39m_hWnd)\n\u001b[0;32m    245\u001b[0m \u001b[38;5;28;01mif\u001b[39;00m result \u001b[38;5;241m==\u001b[39m \u001b[38;5;241m0\u001b[39m:\n\u001b[1;32m--> 246\u001b[0m     \u001b[43m_raiseWithLastError\u001b[49m\u001b[43m(\u001b[49m\u001b[43m)\u001b[49m\n",
      "File \u001b[1;32mc:\\Python311\\Lib\\site-packages\\pygetwindow\\_pygetwindow_win.py:99\u001b[0m, in \u001b[0;36m_raiseWithLastError\u001b[1;34m()\u001b[0m\n\u001b[0;32m     96\u001b[0m \u001b[38;5;250m\u001b[39m\u001b[38;5;124;03m\"\"\"A helper function that raises PyGetWindowException using the error\u001b[39;00m\n\u001b[0;32m     97\u001b[0m \u001b[38;5;124;03minformation from GetLastError() and FormatMessage().\"\"\"\u001b[39;00m\n\u001b[0;32m     98\u001b[0m errorCode \u001b[38;5;241m=\u001b[39m ctypes\u001b[38;5;241m.\u001b[39mwindll\u001b[38;5;241m.\u001b[39mkernel32\u001b[38;5;241m.\u001b[39mGetLastError()\n\u001b[1;32m---> 99\u001b[0m \u001b[38;5;28;01mraise\u001b[39;00m PyGetWindowException(\u001b[38;5;124m'\u001b[39m\u001b[38;5;124mError code from Windows: \u001b[39m\u001b[38;5;132;01m%s\u001b[39;00m\u001b[38;5;124m - \u001b[39m\u001b[38;5;132;01m%s\u001b[39;00m\u001b[38;5;124m'\u001b[39m \u001b[38;5;241m%\u001b[39m (errorCode, _formatMessage(errorCode)))\n",
      "\u001b[1;31mPyGetWindowException\u001b[0m: Error code from Windows: 0 - 작업을 완료했습니다."
     ]
    }
   ],
   "source": [
    "# 창 활성화 체크\n",
    "import pygetwindow as gw\n",
    "from pywinauto import Application\n",
    "\n",
    "def activate_window(window_title):\n",
    "    try:\n",
    "        # 지정된 제목의 창을 찾습니다\n",
    "        window = gw.getWindowsWithTitle(window_title)[0]\n",
    "        \n",
    "        # 창이 최소화되어 있으면 복원합니다\n",
    "        if window.isMinimized:\n",
    "            window.restore()\n",
    "        \n",
    "        # 창을 활성화합니다\n",
    "        window.activate()\n",
    "        print(f\"'{window_title}' 창이 활성화되었습니다.\")\n",
    "    except IndexError:\n",
    "        print(f\"'{window_title}' 창을 찾을 수 없습니다. 프로그램을 실행합니다.\")\n",
    "        # 프로그램이 실행되어 있지 않은 경우, 실행합니다\n",
    "        app = Application().start(window_title)\n",
    "        app.window(title=window_title).wait('visible')\n",
    "        print(f\"'{window_title}' 프로그램이 실행되었습니다.\")\n",
    "\n",
    "# 사용 예시\n",
    "window_title = \"fczf.\"  # 활성화하려는 창의 제목\n",
    "activate_window(window_title)"
   ]
  }
 ],
 "metadata": {
  "kernelspec": {
   "display_name": "Python 3",
   "language": "python",
   "name": "python3"
  },
  "language_info": {
   "codemirror_mode": {
    "name": "ipython",
    "version": 3
   },
   "file_extension": ".py",
   "mimetype": "text/x-python",
   "name": "python",
   "nbconvert_exporter": "python",
   "pygments_lexer": "ipython3",
   "version": "3.11.4"
  }
 },
 "nbformat": 4,
 "nbformat_minor": 2
}
