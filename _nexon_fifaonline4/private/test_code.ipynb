{
 "cells": [
  {
   "cell_type": "code",
   "execution_count": null,
   "metadata": {},
   "outputs": [
    {
     "name": "stdout",
     "output_type": "stream",
     "text": [
      "Collecting webdriver-manager\n",
      "  Obtaining dependency information for webdriver-manager from https://files.pythonhosted.org/packages/b5/b5/3bd0b038d80950ec13e6a2c8d03ed8354867dc60064b172f2f4ffac8afbe/webdriver_manager-4.0.2-py2.py3-none-any.whl.metadata\n",
      "  Using cached webdriver_manager-4.0.2-py2.py3-none-any.whl.metadata (12 kB)\n",
      "Collecting requests (from webdriver-manager)\n",
      "  Obtaining dependency information for requests from https://files.pythonhosted.org/packages/f9/9b/335f9764261e915ed497fcdeb11df5dfd6f7bf257d4a6a2a686d80da4d54/requests-2.32.3-py3-none-any.whl.metadata\n",
      "  Using cached requests-2.32.3-py3-none-any.whl.metadata (4.6 kB)\n",
      "Requirement already satisfied: python-dotenv in c:\\python311\\lib\\site-packages (from webdriver-manager) (1.0.1)\n",
      "Requirement already satisfied: packaging in c:\\users\\amj41\\appdata\\roaming\\python\\python311\\site-packages (from webdriver-manager) (23.1)\n",
      "Requirement already satisfied: charset-normalizer<4,>=2 in c:\\python311\\lib\\site-packages (from requests->webdriver-manager) (3.4.1)\n",
      "Requirement already satisfied: idna<4,>=2.5 in c:\\python311\\lib\\site-packages (from requests->webdriver-manager) (3.4)\n",
      "Requirement already satisfied: urllib3<3,>=1.21.1 in c:\\python311\\lib\\site-packages (from requests->webdriver-manager) (2.0.5)\n",
      "Requirement already satisfied: certifi>=2017.4.17 in c:\\python311\\lib\\site-packages (from requests->webdriver-manager) (2023.7.22)\n",
      "Using cached webdriver_manager-4.0.2-py2.py3-none-any.whl (27 kB)\n",
      "Using cached requests-2.32.3-py3-none-any.whl (64 kB)\n",
      "Installing collected packages: requests, webdriver-manager\n",
      "Successfully installed requests-2.32.3 webdriver-manager-4.0.2\n"
     ]
    },
    {
     "name": "stderr",
     "output_type": "stream",
     "text": [
      "\n",
      "[notice] A new release of pip is available: 23.2.1 -> 25.0.1\n",
      "[notice] To update, run: python.exe -m pip install --upgrade pip\n"
     ]
    }
   ],
   "source": [
    "# !pip install --upgrade pip\n",
    "!pip install psutil"
   ]
  },
  {
   "cell_type": "code",
   "execution_count": 19,
   "metadata": {},
   "outputs": [
    {
     "name": "stdout",
     "output_type": "stream",
     "text": [
      "프로세스 'fczf.exe'를 찾았습니다. PID: 27652\n",
      "psutil.Process(pid=27652, name='fczf.exe', status='running', started='09:37:11')\n",
      "27652\n"
     ]
    }
   ],
   "source": [
    "import psutil\n",
    "\n",
    "def find_process(name):\n",
    "    for process in psutil.process_iter(['pid', 'name']):\n",
    "        try:\n",
    "            if process.info['name'].lower() == name.lower():\n",
    "                return process\n",
    "        except (psutil.NoSuchProcess, psutil.AccessDenied, psutil.ZombieProcess):\n",
    "            pass\n",
    "    return None\n",
    "\n",
    "target_process = find_process('fczf.exe')\n",
    "\n",
    "if target_process:\n",
    "    print(f\"프로세스 'fczf.exe'를 찾았습니다. PID: {target_process.info['pid']}\")\n",
    "    print(target_process)\n",
    "    print(target_process.pid)\n",
    "    \n",
    "else:\n",
    "    print(\"프로세스 'fczf.exe'를 찾을 수 없습니다.\")"
   ]
  },
  {
   "cell_type": "code",
   "execution_count": 17,
   "metadata": {},
   "outputs": [
    {
     "data": {
      "text/plain": [
       "psutil.Process(pid=27652, name='fczf.exe', status='running', started='09:37:11')"
      ]
     },
     "execution_count": 17,
     "metadata": {},
     "output_type": "execute_result"
    }
   ],
   "source": [
    "target_process"
   ]
  },
  {
   "cell_type": "code",
   "execution_count": 20,
   "metadata": {},
   "outputs": [
    {
     "name": "stdout",
     "output_type": "stream",
     "text": [
      "Notepad 프로세스를 찾았습니다. PID: 30672\n",
      "5초 후에 종료됩니다...\n",
      "Notepad가 종료되었습니다.\n"
     ]
    }
   ],
   "source": [
    "import psutil\n",
    "import time\n",
    "\n",
    "def terminate_notepad():\n",
    "    # 모든 실행 중인 프로세스를 순회\n",
    "    for proc in psutil.process_iter(['name']):\n",
    "        try:\n",
    "            # 프로세스 이름이 'notepad.exe'인 경우\n",
    "            if proc.info['name'].lower() == 'notepad.exe':\n",
    "                print(f\"Notepad 프로세스를 찾았습니다. PID: {proc.pid}\")\n",
    "                print(\"5초 후에 종료됩니다...\")\n",
    "                time.sleep(5)  # 10초 대기\n",
    "                proc.terminate()  # 프로세스 종료\n",
    "                print(\"Notepad가 종료되었습니다.\")\n",
    "                return\n",
    "        except (psutil.NoSuchProcess, psutil.AccessDenied, psutil.ZombieProcess):\n",
    "            pass\n",
    "    \n",
    "    print(\"실행 중인 Notepad 프로세스를 찾을 수 없습니다.\")\n",
    "\n",
    "if __name__ == \"__main__\":\n",
    "    terminate_notepad()"
   ]
  },
  {
   "cell_type": "code",
   "execution_count": 5,
   "metadata": {},
   "outputs": [
    {
     "name": "stdout",
     "output_type": "stream",
     "text": [
      "'fc'로 시작하는 프로세스 목록:\n",
      "PID: 8976, 이름: fclauncher.exe, 실행 파일: C:\\Nexon\\EA SPORTS(TM) FC ONLINE\\fclauncher.exe\n",
      "PID: 22216, 이름: fclient.exe, 실행 파일: C:\\Program Files (x86)\\Fasoo DRM\\fclient.exe\n",
      "PID: 22360, 이름: fclient.exe, 실행 파일: C:\\Program Files\\Fasoo DRM\\fclient.exe\n",
      "PID: 27652, 이름: fczf.exe, 실행 파일: C:\\Nexon\\EA SPORTS(TM) FC ONLINE\\fczf.exe\n"
     ]
    }
   ],
   "source": [
    "# psutil을 이용해서 fcz로 시작하는 프로세스 다 찾아주는 \n",
    "import psutil\n",
    "\n",
    "def find_fcz_processes(ps):\n",
    "    fcz_processes = []\n",
    "    for proc in psutil.process_iter(['pid', 'name', 'exe']):\n",
    "        try:\n",
    "            # 프로세스 이름이 'fcz'로 시작하는지 확인\n",
    "            if proc.info['name'].lower().startswith(ps):\n",
    "                fcz_processes.append({\n",
    "                    'pid': proc.info['pid'],\n",
    "                    'name': proc.info['name'],\n",
    "                    'exe': proc.info['exe']\n",
    "                })\n",
    "        except (psutil.NoSuchProcess, psutil.AccessDenied, psutil.ZombieProcess):\n",
    "            pass\n",
    "    return fcz_processes\n",
    "\n",
    "if __name__ == \"__main__\":\n",
    "    found_processes = find_fcz_processes('fc')\n",
    "    if found_processes:\n",
    "        print(\"'fc'로 시작하는 프로세스 목록:\")\n",
    "        for proc in found_processes:\n",
    "            print(f\"PID: {proc['pid']}, 이름: {proc['name']}, 실행 파일: {proc['exe']}\")\n",
    "    else:\n",
    "        print(\"'fc'로 시작하는 프로세스를 찾을 수 없습니다.\")\n",
    "        \n"
   ]
  }
 ],
 "metadata": {
  "kernelspec": {
   "display_name": "Python 3",
   "language": "python",
   "name": "python3"
  },
  "language_info": {
   "codemirror_mode": {
    "name": "ipython",
    "version": 3
   },
   "file_extension": ".py",
   "mimetype": "text/x-python",
   "name": "python",
   "nbconvert_exporter": "python",
   "pygments_lexer": "ipython3",
   "version": "3.11.4"
  }
 },
 "nbformat": 4,
 "nbformat_minor": 2
}
