{
 "cells": [
  {
   "cell_type": "code",
   "execution_count": null,
   "metadata": {},
   "outputs": [],
   "source": [
    "!pip install selenium\n",
    "!pip install webdriver-manager"
   ]
  },
  {
   "cell_type": "code",
   "execution_count": null,
   "metadata": {},
   "outputs": [],
   "source": [
    "# chrome 실행\n",
    "from selenium import webdriver\n",
    "from selenium.webdriver.chrome.service import Service\n",
    "from selenium.webdriver.chrome.options import Options\n",
    "from webdriver_manager.chrome import ChromeDriverManager\n",
    "from selenium.webdriver.support import expected_conditions as EC\n",
    "from selenium.common.exceptions import TimeoutException, NoSuchElementException\n",
    "\n",
    "# Selenium에서 웹 요소를 찾기 위한 다양한 방법을 제공하는 By 클래스를 임포트하는 구문\n",
    "from selenium.webdriver.common.by import By\n",
    "  # driver.find_element(By.XPATH, \"//button[@type='submit']\")\n",
    "\n",
    "# WebDriverWait는 특정 조건이 만족될 때까지 대기하는 기능을 제공\n",
    "from selenium.webdriver.support.ui import WebDriverWait\n",
    "  # wait = WebDriverWait(driver, timeout=10, poll_frequency=1)\n",
    "\n",
    "# EC는 WebDriverWait와 함께 사용되는 미리 정의된 조건들의 집합\n",
    "from selenium.webdriver.support import expected_conditions as EC\n",
    "  # element = wait.until(EC.element_to_be_clickable((By.ID, \"submit\")))\n",
    "\n",
    "# Chrome 옵션 설정\n",
    "chrome_options = Options()\n",
    "# chrome_options.add_argument(\"--headless\")  # GUI 없이 실행 (선택 사항)\n",
    "chrome_options.add_argument(\"--no-sandbox\") # 권한 문제 방지 (Linux 환경에서 필요할 수 있음)\n",
    "chrome_options.add_argument(\"--disable-dev-shm-usage\") # 메모리 문제 방지 (Linux 환경에서 필요할 수 있음)\n",
    "# ChromeDriverManager를 사용하여 ChromeDriver 자동 설치 및 설정\n",
    "service = Service(ChromeDriverManager().install())\n",
    "# WebDriver 객체 생성\n",
    "driver = webdriver.Chrome(service=service, options=chrome_options)\n"
   ]
  },
  {
   "cell_type": "code",
   "execution_count": null,
   "metadata": {},
   "outputs": [],
   "source": [
    "# 특정 변수 모음\n",
    "url_nexon = \"https://fconline.nexon.com/main/index\"\n",
    "\n",
    "xpath_login = \"/html/body/div[1]/div[1]/div[2]/div[4]/a\"\n",
    "xpath_id = \"/html/body/div[2]/div[2]/div/div[1]/fieldset/div[1]/input\"\n",
    "xpath_pw = \"/html/body/div[2]/div[2]/div/div[1]/fieldset/div[2]/input\"\n",
    "xpath_id_btn =\"/html/body/div[2]/div[2]/div/div[1]/fieldset/div[4]/button\"\n",
    "xpath_start_btn =\"/html/body/div[2]/header/a[3]\""
   ]
  },
  {
   "cell_type": "code",
   "execution_count": null,
   "metadata": {},
   "outputs": [],
   "source": [
    "# xpath 있는지 체크\n",
    "def check_xpath_exists(driver, xpath, timeout=10):\n",
    "    try:\n",
    "        element = WebDriverWait(driver, timeout).until(\n",
    "            EC.presence_of_element_located((By.XPATH, xpath))\n",
    "        )\n",
    "        return True\n",
    "    except TimeoutException:\n",
    "        return False\n",
    "\n",
    "# 사용 예시\n",
    "xpath_to_check = xpath_login\n",
    "if check_xpath_exists(driver, xpath_to_check):\n",
    "    print(f\"XPath '{xpath_to_check}'가 존재합니다.\")\n",
    "else:\n",
    "    print(f\"XPath '{xpath_to_check}'가 존재하지 않습니다.\")"
   ]
  },
  {
   "cell_type": "code",
   "execution_count": null,
   "metadata": {},
   "outputs": [],
   "source": [
    "import time\n",
    "\n",
    "# login 처리\n",
    "def element_push(driver, xpath, input_data=None, max_retries=3):\n",
    "    for attempt in range(max_retries):\n",
    "        try:\n",
    "            # 최대 10초간 페이지 로딩 / 특정 xpath 검색될때 까지 \n",
    "            element = WebDriverWait(driver, 10).until(\n",
    "                EC.element_to_be_clickable((By.XPATH, xpath))\n",
    "            )\n",
    "            element.click()\n",
    "            \n",
    "            # 클릭 후 잠시 대기\n",
    "            time.sleep(0.5)\n",
    "            \n",
    "            # input_data가 제공된 경우에만 send_keys 실행\n",
    "            if input_data is not None:\n",
    "                element.send_keys(input_data)\n",
    "            \n",
    "            return True  # 성공적으로 처리됨\n",
    "        \n",
    "        except TimeoutException:\n",
    "            print(f\"요소를 찾는 데 시간이 초과되었습니다. XPath: {xpath}\")\n",
    "        except ElementClickInterceptedException:\n",
    "            print(f\"요소를 클릭하려 했으나 다른 요소에 의해 가려져 있습니다. XPath: {xpath}\")\n",
    "        except StaleElementReferenceException:\n",
    "            print(f\"요소가 더 이상 DOM에 존재하지 않습니다. 페이지가 변경되었을 수 있습니다. XPath: {xpath}\")\n",
    "        except Exception as e:\n",
    "            print(f\"요소를 처리하는 중 예상치 못한 오류가 발생했습니다: {e}\")\n",
    "        \n",
    "        if attempt < max_retries - 1:\n",
    "            print(f\"재시도 중... ({attempt + 1}/{max_retries})\")\n",
    "            time.sleep(1)  # 재시도 전 잠시 대기\n",
    "        else:\n",
    "            print(\"최대 재시도 횟수를 초과했습니다.\")\n",
    "    \n",
    "    return False  # 모든 시도 실패"
   ]
  },
  {
   "cell_type": "code",
   "execution_count": null,
   "metadata": {},
   "outputs": [],
   "source": [
    "# 웹사이트 접속\n",
    "driver.get(url_nexon)\n",
    "# login 버튼 클릭\n",
    "element_push(driver,xpath_login)\n",
    "# id pw 입력 후 로그인\n",
    "element_push(driver,xpath_id,\"amj90\")\n",
    "element_push(driver,xpath_pw,\"vlvk123123\")\n",
    "element_push(driver,xpath_id_btn)\n",
    "# login 체크크"
   ]
  },
  {
   "cell_type": "code",
   "execution_count": null,
   "metadata": {},
   "outputs": [
    {
     "name": "stdout",
     "output_type": "stream",
     "text": [
      "Element with XPath '/html/body/div[1]/div[1]/div[2]/div[4]/a' exists.\n",
      "Element text: \n",
      "Element with XPath '/html/body/div[1]/div[1]/div[2]/div[4]/a' exists.\n",
      "Attribute 'href' value: https://fconline.nexon.com/main/index#\n"
     ]
    }
   ],
   "source": [
    "# 특정 xpath가 있는지 확인하고 있으면 그 데이터를 출력하는 코드\n",
    "from selenium import webdriver\n",
    "from selenium.webdriver.common.by import By\n",
    "from selenium.webdriver.support.ui import WebDriverWait\n",
    "from selenium.webdriver.support import expected_conditions as EC\n",
    "from selenium.common.exceptions import TimeoutException, NoSuchElementException\n",
    "\n",
    "def check_and_get_element_value(driver, xpath, attribute=None, timeout=10):\n",
    "    try:\n",
    "        element = WebDriverWait(driver, timeout).until(\n",
    "            EC.presence_of_element_located((By.XPATH, xpath))\n",
    "        )\n",
    "        \n",
    "        print(f\"Element with XPath '{xpath}' exists.\")\n",
    "        \n",
    "        if attribute:\n",
    "            value = element.get_attribute(attribute)\n",
    "            print(f\"Attribute '{attribute}' value: {value}\")\n",
    "        else:\n",
    "            value = element.text\n",
    "            print(f\"Element text: {value}\")\n",
    "        \n",
    "        return value\n",
    "    \n",
    "    except TimeoutException:\n",
    "        print(f\"Element with XPath '{xpath}' was not found within {timeout} seconds.\")\n",
    "        return None\n",
    "    except NoSuchElementException:\n",
    "        print(f\"Element with XPath '{xpath}' does not exist.\")\n",
    "        return None\n",
    "    except Exception as e:\n",
    "        print(f\"An error occurred: {e}\")\n",
    "        return None\n",
    "\n",
    "# 사용 예시\n",
    "xpath = xpath_login\n",
    "result = check_and_get_element_value(driver, xpath)\n",
    "\n",
    "# 특정 속성(예: href) 값을 가져오고 싶다면:\n",
    "# href_result = check_and_get_element_value(driver, xpath, attribute=\"href\")\n"
   ]
  },
  {
   "cell_type": "code",
   "execution_count": 18,
   "metadata": {},
   "outputs": [
    {
     "name": "stdout",
     "output_type": "stream",
     "text": [
      "추출된 텍스트: \n"
     ]
    }
   ],
   "source": [
    "try:\n",
    "    # XPath 지정 (원하는 요소의 XPath로 변경하세요)\n",
    "    xpath = xpath_login\n",
    "\n",
    "    # 요소가 로드될 때까지 대기 (최대 10초)\n",
    "    element = WebDriverWait(driver, 10).until(\n",
    "        EC.presence_of_element_located((By.XPATH, xpath))\n",
    "    )\n",
    "\n",
    "    # 요소의 텍스트 가져오기\n",
    "    text = element.text\n",
    "    print(\"추출된 텍스트:\", text)\n",
    "\n",
    "except Exception as e:\n",
    "    print(\"오류 발생:\", str(e))"
   ]
  },
  {
   "cell_type": "code",
   "execution_count": 20,
   "metadata": {},
   "outputs": [
    {
     "name": "stdout",
     "output_type": "stream",
     "text": [
      "추출된 텍스트: \n"
     ]
    }
   ],
   "source": [
    "xpath = xpath_login\n",
    "\n",
    "# 요소가 로드될 때까지 대기 (최대 10초)\n",
    "element = WebDriverWait(driver, 10).until(\n",
    "    EC.presence_of_element_located((By.XPATH, xpath))\n",
    ")\n",
    "\n",
    "# 요소의 텍스트 가져오기\n",
    "text = element.text\n",
    "print(\"추출된 텍스트:\", text)"
   ]
  }
 ],
 "metadata": {
  "kernelspec": {
   "display_name": "Python 3",
   "language": "python",
   "name": "python3"
  },
  "language_info": {
   "codemirror_mode": {
    "name": "ipython",
    "version": 3
   },
   "file_extension": ".py",
   "mimetype": "text/x-python",
   "name": "python",
   "nbconvert_exporter": "python",
   "pygments_lexer": "ipython3",
   "version": "3.11.4"
  }
 },
 "nbformat": 4,
 "nbformat_minor": 2
}
